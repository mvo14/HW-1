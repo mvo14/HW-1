{
  "nbformat": 4,
  "nbformat_minor": 0,
  "metadata": {
    "colab": {
      "provenance": [],
      "authorship_tag": "ABX9TyP+SR6Mbx06Y3+ACdzb4YsG",
      "include_colab_link": true
    },
    "kernelspec": {
      "name": "python3",
      "display_name": "Python 3"
    },
    "language_info": {
      "name": "python"
    }
  },
  "cells": [
    {
      "cell_type": "markdown",
      "metadata": {
        "id": "view-in-github",
        "colab_type": "text"
      },
      "source": [
        "<a href=\"https://colab.research.google.com/github/mvo14/HW-1/blob/main/Week11.ipynb\" target=\"_parent\"><img src=\"https://colab.research.google.com/assets/colab-badge.svg\" alt=\"Open In Colab\"/></a>"
      ]
    },
    {
      "cell_type": "code",
      "execution_count": null,
      "metadata": {
        "colab": {
          "base_uri": "https://localhost:8080/"
        },
        "id": "4kLMCCWsLzUy",
        "outputId": "bc8ea9ca-0776-4e52-9ad5-00373c8e4e54"
      },
      "outputs": [
        {
          "output_type": "stream",
          "name": "stdout",
          "text": [
            "You want eggs for breakfast.\n",
            "You want bacon for breakfast.\n",
            "You want toast for breakfast.\n",
            "You want cereal for breakfast.\n",
            "You want fruit for breakfast.\n",
            "You want yogurt for breakfast.\n",
            "You want Oats for breakfast.\n",
            "You want banana for breakfast.\n",
            "You want apple for breakfast.\n"
          ]
        }
      ],
      "source": [
        "def breakfast(*ingredients):\n",
        "  for item in ingredients:\n",
        "    print('You want ' + item + ' for breakfast.')\n",
        "\n",
        "breakfast('eggs', 'bacon', 'toast')\n",
        "breakfast('cereal', 'fruit', 'yogurt')\n",
        "breakfast('Oats', 'banana', 'apple')"
      ]
    },
    {
      "cell_type": "markdown",
      "source": [
        "8.10"
      ],
      "metadata": {
        "id": "46EG3pSxNLZx"
      }
    },
    {
      "cell_type": "code",
      "source": [
        "def make_car(manufacturer, model, **options):\n",
        "  dict = {\n",
        "      'manufacturer': manufacturer.title(),\n",
        "      'model': model.title(),\n",
        "  }\n",
        "  for option, value in options.items():\n",
        "    dict[option] = value\n",
        "\n",
        "  return dict\n",
        "\n",
        "ford = make_car('Ford', 'Crown Victoria', color='white', radio=True)\n",
        "print(ford)\n",
        "\n",
        "dodge = make_car('Dodge', 'Challenger', color='Red', radio=True)\n",
        "print(dodge)"
      ],
      "metadata": {
        "colab": {
          "base_uri": "https://localhost:8080/"
        },
        "id": "gtN_9vURNMqb",
        "outputId": "0ce05763-73f3-40c3-fa0e-30d52318c7b8"
      },
      "execution_count": null,
      "outputs": [
        {
          "output_type": "stream",
          "name": "stdout",
          "text": [
            "{'manufacturer': 'Ford', 'model': 'Crown Victoria', 'color': 'white', 'radio': True}\n",
            "{'manufacturer': 'Dodge', 'model': 'Challenger', 'color': 'Red', 'radio': True}\n"
          ]
        }
      ]
    },
    {
      "cell_type": "markdown",
      "source": [
        "8.11"
      ],
      "metadata": {
        "id": "-foy-SpWOp5B"
      }
    },
    {
      "cell_type": "code",
      "source": [
        "def make_car(manufacturer, model, color='white'):\n",
        "  d = dict()\n",
        "  d['Manufacturer'] = manufacturer\n",
        "  d['model'] = model\n",
        "  d['color'] = color\n",
        "  return d"
      ],
      "metadata": {
        "id": "A9Fu4-hqRxoy"
      },
      "execution_count": null,
      "outputs": []
    },
    {
      "cell_type": "code",
      "source": [
        "import car\n",
        "from car import make_car\n",
        "from car import make_car as fn\n",
        "import car as manufacturer\n",
        "\n",
        "print(car.make_car(\"ford\", \"crown victoria\", color = \"white\"))\n",
        "print(make_car(\"ford\", \"crown victoria\", color = \"white\"))\n",
        "print(fn(\"ford\", \"crown victoria\", color = \"white\"))\n",
        "print(mn.make_car(\"ford\", \"crown victoria\", color = \"white\"))"
      ],
      "metadata": {
        "id": "qg6eTMUZifFG"
      },
      "execution_count": null,
      "outputs": []
    },
    {
      "cell_type": "markdown",
      "source": [
        "8.12"
      ],
      "metadata": {
        "id": "XgL9vuB5cxBK"
      }
    },
    {
      "cell_type": "code",
      "source": [
        "import random\n",
        "\n",
        "coin = [\"heads\", \"tails\"]\n",
        "flip = random.choice(coin)\n",
        "\n",
        "choice = input(\"heads or tails?\")\n",
        "\n",
        "if choice == flip:\n",
        "  print(\"Correct! It was \" + flip)\n",
        "else:\n",
        "  print(\"Sorry, it was \" + flip)\n"
      ],
      "metadata": {
        "colab": {
          "base_uri": "https://localhost:8080/"
        },
        "id": "k7XHbVnGcx1l",
        "outputId": "21df1131-0d93-4386-edec-a731310fc719"
      },
      "execution_count": null,
      "outputs": [
        {
          "output_type": "stream",
          "name": "stdout",
          "text": [
            "heads or tails?heads\n",
            "Correct! It was heads\n"
          ]
        }
      ]
    },
    {
      "cell_type": "markdown",
      "source": [
        "8.13"
      ],
      "metadata": {
        "id": "gSe6wgNOdWYw"
      }
    }
  ]
}